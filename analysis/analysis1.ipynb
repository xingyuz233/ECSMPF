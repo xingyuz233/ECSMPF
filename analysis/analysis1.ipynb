{
 "cells": [
  {
   "cell_type": "code",
   "execution_count": 1,
   "source": [
    "import pandas as pd"
   ],
   "outputs": [],
   "metadata": {}
  },
  {
   "cell_type": "code",
   "execution_count": 9,
   "source": [
    "df_1 = pd.read_csv('../result/IM_ENSEMBLE_rate_exceptions_recent_week_filter_20210801161724/result.csv')\n",
    "df_1.columns = ['nc_ip', 'sample_time']"
   ],
   "outputs": [],
   "metadata": {}
  },
  {
   "cell_type": "code",
   "execution_count": 4,
   "source": [
    "df_2 = pd.read_csv('../result/IM_ENSEMBLE_n_exceptions_20210726153855/result.csv')"
   ],
   "outputs": [],
   "metadata": {}
  },
  {
   "cell_type": "code",
   "execution_count": 12,
   "source": [
    "df_3 = pd.read_csv('../result/IM_ENSEMBLE_rate_exceptions_recent_week_filter_20210801114030/result.csv')\n",
    "df_3.columns = ['nc_ip', 'sample_time']"
   ],
   "outputs": [],
   "metadata": {}
  },
  {
   "cell_type": "code",
   "execution_count": 21,
   "source": [
    "df_2[df_2['nc_ip']=='c6dda075-1cd0-48a3-9b44-ea89040ac5db']"
   ],
   "outputs": [
    {
     "output_type": "execute_result",
     "data": {
      "text/plain": [
       "Empty DataFrame\n",
       "Columns: [nc_ip, sample_time]\n",
       "Index: []"
      ],
      "text/html": [
       "<div>\n",
       "<style scoped>\n",
       "    .dataframe tbody tr th:only-of-type {\n",
       "        vertical-align: middle;\n",
       "    }\n",
       "\n",
       "    .dataframe tbody tr th {\n",
       "        vertical-align: top;\n",
       "    }\n",
       "\n",
       "    .dataframe thead th {\n",
       "        text-align: right;\n",
       "    }\n",
       "</style>\n",
       "<table border=\"1\" class=\"dataframe\">\n",
       "  <thead>\n",
       "    <tr style=\"text-align: right;\">\n",
       "      <th></th>\n",
       "      <th>nc_ip</th>\n",
       "      <th>sample_time</th>\n",
       "    </tr>\n",
       "  </thead>\n",
       "  <tbody>\n",
       "  </tbody>\n",
       "</table>\n",
       "</div>"
      ]
     },
     "metadata": {},
     "execution_count": 21
    }
   ],
   "metadata": {}
  },
  {
   "cell_type": "code",
   "execution_count": 15,
   "source": [
    "df_1.merge(df_3, how='inner', left_on=['nc_ip', 'sample_time'], right_on=['nc_ip', 'sample_time'])"
   ],
   "outputs": [
    {
     "output_type": "execute_result",
     "data": {
      "text/plain": [
       "                                     nc_ip          sample_time\n",
       "0     105d2337-03d2-4ecf-820a-c56a9299b6f5  2018-02-13 02:45:00\n",
       "1     105d2337-03d2-4ecf-820a-c56a9299b6f5  2018-02-13 02:50:00\n",
       "2     105d2337-03d2-4ecf-820a-c56a9299b6f5  2018-02-13 02:55:00\n",
       "3     105d2337-03d2-4ecf-820a-c56a9299b6f5  2018-02-13 03:05:00\n",
       "4     105d2337-03d2-4ecf-820a-c56a9299b6f5  2018-02-13 03:10:00\n",
       "...                                    ...                  ...\n",
       "1768  63dc0eb1-6491-4879-bb7c-74f8e690d107  2019-02-16 11:10:00\n",
       "1769  63dc0eb1-6491-4879-bb7c-74f8e690d107  2019-02-16 10:15:00\n",
       "1770  63dc0eb1-6491-4879-bb7c-74f8e690d107  2019-02-16 09:10:00\n",
       "1771  63dc0eb1-6491-4879-bb7c-74f8e690d107  2019-02-16 09:15:00\n",
       "1772  63dc0eb1-6491-4879-bb7c-74f8e690d107  2019-02-16 17:00:00\n",
       "\n",
       "[1773 rows x 2 columns]"
      ],
      "text/html": [
       "<div>\n",
       "<style scoped>\n",
       "    .dataframe tbody tr th:only-of-type {\n",
       "        vertical-align: middle;\n",
       "    }\n",
       "\n",
       "    .dataframe tbody tr th {\n",
       "        vertical-align: top;\n",
       "    }\n",
       "\n",
       "    .dataframe thead th {\n",
       "        text-align: right;\n",
       "    }\n",
       "</style>\n",
       "<table border=\"1\" class=\"dataframe\">\n",
       "  <thead>\n",
       "    <tr style=\"text-align: right;\">\n",
       "      <th></th>\n",
       "      <th>nc_ip</th>\n",
       "      <th>sample_time</th>\n",
       "    </tr>\n",
       "  </thead>\n",
       "  <tbody>\n",
       "    <tr>\n",
       "      <th>0</th>\n",
       "      <td>105d2337-03d2-4ecf-820a-c56a9299b6f5</td>\n",
       "      <td>2018-02-13 02:45:00</td>\n",
       "    </tr>\n",
       "    <tr>\n",
       "      <th>1</th>\n",
       "      <td>105d2337-03d2-4ecf-820a-c56a9299b6f5</td>\n",
       "      <td>2018-02-13 02:50:00</td>\n",
       "    </tr>\n",
       "    <tr>\n",
       "      <th>2</th>\n",
       "      <td>105d2337-03d2-4ecf-820a-c56a9299b6f5</td>\n",
       "      <td>2018-02-13 02:55:00</td>\n",
       "    </tr>\n",
       "    <tr>\n",
       "      <th>3</th>\n",
       "      <td>105d2337-03d2-4ecf-820a-c56a9299b6f5</td>\n",
       "      <td>2018-02-13 03:05:00</td>\n",
       "    </tr>\n",
       "    <tr>\n",
       "      <th>4</th>\n",
       "      <td>105d2337-03d2-4ecf-820a-c56a9299b6f5</td>\n",
       "      <td>2018-02-13 03:10:00</td>\n",
       "    </tr>\n",
       "    <tr>\n",
       "      <th>...</th>\n",
       "      <td>...</td>\n",
       "      <td>...</td>\n",
       "    </tr>\n",
       "    <tr>\n",
       "      <th>1768</th>\n",
       "      <td>63dc0eb1-6491-4879-bb7c-74f8e690d107</td>\n",
       "      <td>2019-02-16 11:10:00</td>\n",
       "    </tr>\n",
       "    <tr>\n",
       "      <th>1769</th>\n",
       "      <td>63dc0eb1-6491-4879-bb7c-74f8e690d107</td>\n",
       "      <td>2019-02-16 10:15:00</td>\n",
       "    </tr>\n",
       "    <tr>\n",
       "      <th>1770</th>\n",
       "      <td>63dc0eb1-6491-4879-bb7c-74f8e690d107</td>\n",
       "      <td>2019-02-16 09:10:00</td>\n",
       "    </tr>\n",
       "    <tr>\n",
       "      <th>1771</th>\n",
       "      <td>63dc0eb1-6491-4879-bb7c-74f8e690d107</td>\n",
       "      <td>2019-02-16 09:15:00</td>\n",
       "    </tr>\n",
       "    <tr>\n",
       "      <th>1772</th>\n",
       "      <td>63dc0eb1-6491-4879-bb7c-74f8e690d107</td>\n",
       "      <td>2019-02-16 17:00:00</td>\n",
       "    </tr>\n",
       "  </tbody>\n",
       "</table>\n",
       "<p>1773 rows × 2 columns</p>\n",
       "</div>"
      ]
     },
     "metadata": {},
     "execution_count": 15
    }
   ],
   "metadata": {}
  },
  {
   "cell_type": "code",
   "execution_count": 17,
   "source": [
    "df_1"
   ],
   "outputs": [
    {
     "output_type": "execute_result",
     "data": {
      "text/plain": [
       "                                     nc_ip          sample_time\n",
       "0     105d2337-03d2-4ecf-820a-c56a9299b6f5  2018-02-13 02:45:00\n",
       "1     105d2337-03d2-4ecf-820a-c56a9299b6f5  2018-02-13 02:50:00\n",
       "2     105d2337-03d2-4ecf-820a-c56a9299b6f5  2018-02-13 02:55:00\n",
       "3     105d2337-03d2-4ecf-820a-c56a9299b6f5  2018-02-13 03:05:00\n",
       "4     105d2337-03d2-4ecf-820a-c56a9299b6f5  2018-02-13 03:10:00\n",
       "...                                    ...                  ...\n",
       "1768  63dc0eb1-6491-4879-bb7c-74f8e690d107  2019-02-16 11:10:00\n",
       "1769  63dc0eb1-6491-4879-bb7c-74f8e690d107  2019-02-16 10:15:00\n",
       "1770  63dc0eb1-6491-4879-bb7c-74f8e690d107  2019-02-16 09:10:00\n",
       "1771  63dc0eb1-6491-4879-bb7c-74f8e690d107  2019-02-16 09:15:00\n",
       "1772  63dc0eb1-6491-4879-bb7c-74f8e690d107  2019-02-16 17:00:00\n",
       "\n",
       "[1773 rows x 2 columns]"
      ],
      "text/html": [
       "<div>\n",
       "<style scoped>\n",
       "    .dataframe tbody tr th:only-of-type {\n",
       "        vertical-align: middle;\n",
       "    }\n",
       "\n",
       "    .dataframe tbody tr th {\n",
       "        vertical-align: top;\n",
       "    }\n",
       "\n",
       "    .dataframe thead th {\n",
       "        text-align: right;\n",
       "    }\n",
       "</style>\n",
       "<table border=\"1\" class=\"dataframe\">\n",
       "  <thead>\n",
       "    <tr style=\"text-align: right;\">\n",
       "      <th></th>\n",
       "      <th>nc_ip</th>\n",
       "      <th>sample_time</th>\n",
       "    </tr>\n",
       "  </thead>\n",
       "  <tbody>\n",
       "    <tr>\n",
       "      <th>0</th>\n",
       "      <td>105d2337-03d2-4ecf-820a-c56a9299b6f5</td>\n",
       "      <td>2018-02-13 02:45:00</td>\n",
       "    </tr>\n",
       "    <tr>\n",
       "      <th>1</th>\n",
       "      <td>105d2337-03d2-4ecf-820a-c56a9299b6f5</td>\n",
       "      <td>2018-02-13 02:50:00</td>\n",
       "    </tr>\n",
       "    <tr>\n",
       "      <th>2</th>\n",
       "      <td>105d2337-03d2-4ecf-820a-c56a9299b6f5</td>\n",
       "      <td>2018-02-13 02:55:00</td>\n",
       "    </tr>\n",
       "    <tr>\n",
       "      <th>3</th>\n",
       "      <td>105d2337-03d2-4ecf-820a-c56a9299b6f5</td>\n",
       "      <td>2018-02-13 03:05:00</td>\n",
       "    </tr>\n",
       "    <tr>\n",
       "      <th>4</th>\n",
       "      <td>105d2337-03d2-4ecf-820a-c56a9299b6f5</td>\n",
       "      <td>2018-02-13 03:10:00</td>\n",
       "    </tr>\n",
       "    <tr>\n",
       "      <th>...</th>\n",
       "      <td>...</td>\n",
       "      <td>...</td>\n",
       "    </tr>\n",
       "    <tr>\n",
       "      <th>1768</th>\n",
       "      <td>63dc0eb1-6491-4879-bb7c-74f8e690d107</td>\n",
       "      <td>2019-02-16 11:10:00</td>\n",
       "    </tr>\n",
       "    <tr>\n",
       "      <th>1769</th>\n",
       "      <td>63dc0eb1-6491-4879-bb7c-74f8e690d107</td>\n",
       "      <td>2019-02-16 10:15:00</td>\n",
       "    </tr>\n",
       "    <tr>\n",
       "      <th>1770</th>\n",
       "      <td>63dc0eb1-6491-4879-bb7c-74f8e690d107</td>\n",
       "      <td>2019-02-16 09:10:00</td>\n",
       "    </tr>\n",
       "    <tr>\n",
       "      <th>1771</th>\n",
       "      <td>63dc0eb1-6491-4879-bb7c-74f8e690d107</td>\n",
       "      <td>2019-02-16 09:15:00</td>\n",
       "    </tr>\n",
       "    <tr>\n",
       "      <th>1772</th>\n",
       "      <td>63dc0eb1-6491-4879-bb7c-74f8e690d107</td>\n",
       "      <td>2019-02-16 17:00:00</td>\n",
       "    </tr>\n",
       "  </tbody>\n",
       "</table>\n",
       "<p>1773 rows × 2 columns</p>\n",
       "</div>"
      ]
     },
     "metadata": {},
     "execution_count": 17
    }
   ],
   "metadata": {}
  }
 ],
 "metadata": {
  "interpreter": {
   "hash": "91aaf874a35f6947e93d056613dff7c1e5077b04cc56616f8d938977ea56f218"
  },
  "kernelspec": {
   "name": "python3",
   "display_name": "Python 3.8.10 64-bit ('py38': conda)"
  },
  "language_info": {
   "name": "python",
   "version": "3.8.10",
   "mimetype": "text/x-python",
   "codemirror_mode": {
    "name": "ipython",
    "version": 3
   },
   "pygments_lexer": "ipython3",
   "nbconvert_exporter": "python",
   "file_extension": ".py"
  },
  "orig_nbformat": 4
 },
 "nbformat": 4,
 "nbformat_minor": 2
}