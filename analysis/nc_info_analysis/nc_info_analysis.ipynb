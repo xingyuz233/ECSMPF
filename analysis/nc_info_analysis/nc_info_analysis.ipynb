{
 "cells": [
  {
   "cell_type": "code",
   "execution_count": 9,
   "source": [
    "import numpy as np\n",
    "import pandas as pd\n",
    "import collections\n",
    "from tqdm import tqdm\n",
    "import yaml\n",
    "import json\n",
    "config = yaml.load(open('../../config/config.yaml'))\n"
   ],
   "outputs": [
    {
     "output_type": "stream",
     "name": "stderr",
     "text": [
      "<ipython-input-9-91d14cf2b12d>:7: YAMLLoadWarning: calling yaml.load() without Loader=... is deprecated, as the default Loader is unsafe. Please read https://msg.pyyaml.org/load for full details.\n",
      "  config = yaml.load(open('../../config/config.yaml'))\n"
     ]
    }
   ],
   "metadata": {}
  },
  {
   "cell_type": "code",
   "execution_count": 2,
   "source": [
    "nc_info_train = pd.read_csv('../../'+config['data']['raw']['train']['nc_info'])\n",
    "nc_info_test = pd.read_csv('../../'+config['data']['raw']['test']['nc_info'])"
   ],
   "outputs": [],
   "metadata": {}
  },
  {
   "cell_type": "code",
   "execution_count": 10,
   "source": [
    "with open('nc_info.json', 'w') as f:\n",
    "    json.dump({c: sorted([ele for ele in nc_info_train[c].drop_duplicates().values if type(ele) == str]) for c in nc_info_train.columns.values if c != 'cluster_alias' and c != 'nc_ip'}\n",
    ", f)\n",
    "   "
   ],
   "outputs": [],
   "metadata": {}
  },
  {
   "cell_type": "code",
   "execution_count": 7,
   "source": [
    "\n",
    "with open('../../config/nc_info.yaml', 'w') as f:\n",
    "    res = yaml.dump({c: sorted([ele for ele in nc_info_train[c].drop_duplicates().values if type(ele) == str]) for c in nc_info_train.columns.values if c != 'cluster_alias' and c != 'nc_ip'})\n",
    "    f.write(res)\n",
    "# for c in nc_info_train.columns.values:\n",
    "#     if c != 'cluster_alias' and c != 'nc_ip':\n",
    "#         print('#####################')\n",
    "#         print(c)\n",
    "#         for ele in nc_info_train[c].drop_duplicates().values:\n",
    "#             print(ele)"
   ],
   "outputs": [],
   "metadata": {}
  },
  {
   "cell_type": "code",
   "execution_count": 17,
   "source": [
    "pd.merge(nc_info_train, nc_info_test, on='nc_ip')"
   ],
   "outputs": [
    {
     "output_type": "execute_result",
     "data": {
      "text/plain": [
       "Empty DataFrame\n",
       "Columns: [nc_ip, physical_model_x, cpu_generation_full_x, manufacturer_x, cluster_alias_x, cluster_usage_x, mem_pn_x, mem_manufacturer_x, bios_version_x, os_release_x, bmc_version_x, physical_model_y, cpu_generation_full_y, manufacturer_y, cluster_alias_y, cluster_usage_y, mem_pn_y, mem_manufacturer_y, bios_version_y, os_release_y, bmc_version_y]\n",
       "Index: []\n",
       "\n",
       "[0 rows x 21 columns]"
      ],
      "text/html": [
       "<div>\n",
       "<style scoped>\n",
       "    .dataframe tbody tr th:only-of-type {\n",
       "        vertical-align: middle;\n",
       "    }\n",
       "\n",
       "    .dataframe tbody tr th {\n",
       "        vertical-align: top;\n",
       "    }\n",
       "\n",
       "    .dataframe thead th {\n",
       "        text-align: right;\n",
       "    }\n",
       "</style>\n",
       "<table border=\"1\" class=\"dataframe\">\n",
       "  <thead>\n",
       "    <tr style=\"text-align: right;\">\n",
       "      <th></th>\n",
       "      <th>nc_ip</th>\n",
       "      <th>physical_model_x</th>\n",
       "      <th>cpu_generation_full_x</th>\n",
       "      <th>manufacturer_x</th>\n",
       "      <th>cluster_alias_x</th>\n",
       "      <th>cluster_usage_x</th>\n",
       "      <th>mem_pn_x</th>\n",
       "      <th>mem_manufacturer_x</th>\n",
       "      <th>bios_version_x</th>\n",
       "      <th>os_release_x</th>\n",
       "      <th>...</th>\n",
       "      <th>physical_model_y</th>\n",
       "      <th>cpu_generation_full_y</th>\n",
       "      <th>manufacturer_y</th>\n",
       "      <th>cluster_alias_y</th>\n",
       "      <th>cluster_usage_y</th>\n",
       "      <th>mem_pn_y</th>\n",
       "      <th>mem_manufacturer_y</th>\n",
       "      <th>bios_version_y</th>\n",
       "      <th>os_release_y</th>\n",
       "      <th>bmc_version_y</th>\n",
       "    </tr>\n",
       "  </thead>\n",
       "  <tbody>\n",
       "  </tbody>\n",
       "</table>\n",
       "<p>0 rows × 21 columns</p>\n",
       "</div>"
      ]
     },
     "metadata": {},
     "execution_count": 17
    }
   ],
   "metadata": {}
  },
  {
   "cell_type": "code",
   "execution_count": 10,
   "source": [
    "nc_info_test['physical_model'].drop_duplicates()"
   ],
   "outputs": [
    {
     "output_type": "execute_result",
     "data": {
      "text/plain": [
       "55"
      ]
     },
     "metadata": {},
     "execution_count": 10
    }
   ],
   "metadata": {}
  }
 ],
 "metadata": {
  "orig_nbformat": 4,
  "language_info": {
   "name": "python",
   "version": "3.8.10",
   "mimetype": "text/x-python",
   "codemirror_mode": {
    "name": "ipython",
    "version": 3
   },
   "pygments_lexer": "ipython3",
   "nbconvert_exporter": "python",
   "file_extension": ".py"
  },
  "kernelspec": {
   "name": "python3",
   "display_name": "Python 3.8.10 64-bit ('py38': conda)"
  },
  "interpreter": {
   "hash": "91aaf874a35f6947e93d056613dff7c1e5077b04cc56616f8d938977ea56f218"
  }
 },
 "nbformat": 4,
 "nbformat_minor": 2
}