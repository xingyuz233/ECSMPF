{
 "cells": [
  {
   "cell_type": "code",
   "execution_count": 1,
   "source": [
    "import argparse\n",
    "import pandas as pd\n",
    "from tqdm import tqdm\n",
    "import yaml\n",
    "import math\n",
    "import numpy as np\n",
    "from datetime import datetime\n",
    "import json\n",
    "import bisect\n",
    "\n",
    "config = yaml.load(open('../config/config.yaml'))\n",
    "exception_name_columns = config['exception_name']['train']"
   ],
   "outputs": [
    {
     "output_type": "stream",
     "name": "stderr",
     "text": [
      "<ipython-input-1-e16a28c1aa31>:11: YAMLLoadWarning: calling yaml.load() without Loader=... is deprecated, as the default Loader is unsafe. Please read https://msg.pyyaml.org/load for full details.\n",
      "  config = yaml.load(open('../config/config.yaml'))\n"
     ]
    }
   ],
   "metadata": {}
  },
  {
   "cell_type": "code",
   "execution_count": null,
   "source": [
    "n_exceptions_train = pd.read_csv('../'+config['data']['feature']['train']['nc_exceptions_key_ip_column_name_value_timelist'])\n",
    "# test sample 里所有nc 都不在test exception里面出现，因此不需要nc_exceptions_test的信息。\n",
    "n_exceptions_test = pd.read_csv('../'+config['data']['process']['test']['nc_exceptions_key_ip_column_name_value_timelist'])\n"
   ],
   "outputs": [],
   "metadata": {}
  }
 ],
 "metadata": {
  "orig_nbformat": 4,
  "language_info": {
   "name": "python",
   "version": "3.8.10",
   "mimetype": "text/x-python",
   "codemirror_mode": {
    "name": "ipython",
    "version": 3
   },
   "pygments_lexer": "ipython3",
   "nbconvert_exporter": "python",
   "file_extension": ".py"
  },
  "kernelspec": {
   "name": "python3",
   "display_name": "Python 3.8.10 64-bit ('py38': conda)"
  },
  "interpreter": {
   "hash": "91aaf874a35f6947e93d056613dff7c1e5077b04cc56616f8d938977ea56f218"
  }
 },
 "nbformat": 4,
 "nbformat_minor": 2
}